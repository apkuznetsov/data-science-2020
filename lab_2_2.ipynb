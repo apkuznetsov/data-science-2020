{
  "nbformat": 4,
  "nbformat_minor": 0,
  "metadata": {
    "colab": {
      "name": "lab_2_2.ipynb",
      "provenance": [],
      "collapsed_sections": [],
      "authorship_tag": "ABX9TyN7Kj30iB9Cl2Qp8qNC3mF4"
    },
    "kernelspec": {
      "name": "python3",
      "display_name": "Python 3"
    }
  },
  "cells": [
    {
      "cell_type": "code",
      "metadata": {
        "id": "z__9wCAC8Xk5",
        "outputId": "193d84c5-5e16-4238-df45-0385fc96f537",
        "colab": {
          "base_uri": "https://localhost:8080/"
        }
      },
      "source": [
        "# Load dependencies:\n",
        "import pandas as pd\n",
        "import numpy as np\n",
        "from sklearn.preprocessing import StandardScaler\n",
        "from matplotlib import*\n",
        "import matplotlib.pyplot as plt\n",
        "from sklearn.decomposition import PCA as sklearnPCA\n",
        "\n",
        "usArrestsUrl = 'https://forge.scilab.org/index.php/p/rdataset/source/file/master/csv/datasets/USArrests.csv'\n",
        "dataset = pd.read_csv(usArrestsUrl)\n",
        "print(dataset)\n"
      ],
      "execution_count": 8,
      "outputs": [
        {
          "output_type": "stream",
          "text": [
            "        Unnamed: 0  Murder  Assault  UrbanPop  Rape\n",
            "0          Alabama    13.2      236        58  21.2\n",
            "1           Alaska    10.0      263        48  44.5\n",
            "2          Arizona     8.1      294        80  31.0\n",
            "3         Arkansas     8.8      190        50  19.5\n",
            "4       California     9.0      276        91  40.6\n",
            "5         Colorado     7.9      204        78  38.7\n",
            "6      Connecticut     3.3      110        77  11.1\n",
            "7         Delaware     5.9      238        72  15.8\n",
            "8          Florida    15.4      335        80  31.9\n",
            "9          Georgia    17.4      211        60  25.8\n",
            "10          Hawaii     5.3       46        83  20.2\n",
            "11           Idaho     2.6      120        54  14.2\n",
            "12        Illinois    10.4      249        83  24.0\n",
            "13         Indiana     7.2      113        65  21.0\n",
            "14            Iowa     2.2       56        57  11.3\n",
            "15          Kansas     6.0      115        66  18.0\n",
            "16        Kentucky     9.7      109        52  16.3\n",
            "17       Louisiana    15.4      249        66  22.2\n",
            "18           Maine     2.1       83        51   7.8\n",
            "19        Maryland    11.3      300        67  27.8\n",
            "20   Massachusetts     4.4      149        85  16.3\n",
            "21        Michigan    12.1      255        74  35.1\n",
            "22       Minnesota     2.7       72        66  14.9\n",
            "23     Mississippi    16.1      259        44  17.1\n",
            "24        Missouri     9.0      178        70  28.2\n",
            "25         Montana     6.0      109        53  16.4\n",
            "26        Nebraska     4.3      102        62  16.5\n",
            "27          Nevada    12.2      252        81  46.0\n",
            "28   New Hampshire     2.1       57        56   9.5\n",
            "29      New Jersey     7.4      159        89  18.8\n",
            "30      New Mexico    11.4      285        70  32.1\n",
            "31        New York    11.1      254        86  26.1\n",
            "32  North Carolina    13.0      337        45  16.1\n",
            "33    North Dakota     0.8       45        44   7.3\n",
            "34            Ohio     7.3      120        75  21.4\n",
            "35        Oklahoma     6.6      151        68  20.0\n",
            "36          Oregon     4.9      159        67  29.3\n",
            "37    Pennsylvania     6.3      106        72  14.9\n",
            "38    Rhode Island     3.4      174        87   8.3\n",
            "39  South Carolina    14.4      279        48  22.5\n",
            "40    South Dakota     3.8       86        45  12.8\n",
            "41       Tennessee    13.2      188        59  26.9\n",
            "42           Texas    12.7      201        80  25.5\n",
            "43            Utah     3.2      120        80  22.9\n",
            "44         Vermont     2.2       48        32  11.2\n",
            "45        Virginia     8.5      156        63  20.7\n",
            "46      Washington     4.0      145        73  26.2\n",
            "47   West Virginia     5.7       81        39   9.3\n",
            "48       Wisconsin     2.6       53        66  10.8\n",
            "49         Wyoming     6.8      161        60  15.6\n"
          ],
          "name": "stdout"
        }
      ]
    }
  ]
}