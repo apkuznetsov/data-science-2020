{
  "nbformat": 4,
  "nbformat_minor": 0,
  "metadata": {
    "colab": {
      "name": "lab_2_2.ipynb",
      "provenance": [],
      "collapsed_sections": []
    },
    "kernelspec": {
      "name": "python3",
      "display_name": "Python 3"
    }
  },
  "cells": [
    {
      "cell_type": "code",
      "metadata": {
        "id": "z__9wCAC8Xk5",
        "outputId": "c9806ae3-ae07-4316-f78b-592efd320593",
        "colab": {
          "base_uri": "https://localhost:8080/"
        }
      },
      "source": [
        "# Load dependencies:\n",
        "import pandas as pd\n",
        "import numpy as np\n",
        "from sklearn.preprocessing import StandardScaler\n",
        "from matplotlib import*\n",
        "import matplotlib.pyplot as plt\n",
        "from sklearn.decomposition import PCA as sklearnPCA\n",
        "\n",
        "us_arrests_url = 'https://forge.scilab.org/index.php/p/rdataset/source/file/master/csv/datasets/USArrests.csv'\n",
        "dataset = pd.read_csv(us_arrests_url)\n",
        "print(dataset)\n"
      ],
      "execution_count": 85,
      "outputs": [
        {
          "output_type": "stream",
          "text": [
            "        Unnamed: 0  Murder  Assault  UrbanPop  Rape\n",
            "0          Alabama    13.2      236        58  21.2\n",
            "1           Alaska    10.0      263        48  44.5\n",
            "2          Arizona     8.1      294        80  31.0\n",
            "3         Arkansas     8.8      190        50  19.5\n",
            "4       California     9.0      276        91  40.6\n",
            "5         Colorado     7.9      204        78  38.7\n",
            "6      Connecticut     3.3      110        77  11.1\n",
            "7         Delaware     5.9      238        72  15.8\n",
            "8          Florida    15.4      335        80  31.9\n",
            "9          Georgia    17.4      211        60  25.8\n",
            "10          Hawaii     5.3       46        83  20.2\n",
            "11           Idaho     2.6      120        54  14.2\n",
            "12        Illinois    10.4      249        83  24.0\n",
            "13         Indiana     7.2      113        65  21.0\n",
            "14            Iowa     2.2       56        57  11.3\n",
            "15          Kansas     6.0      115        66  18.0\n",
            "16        Kentucky     9.7      109        52  16.3\n",
            "17       Louisiana    15.4      249        66  22.2\n",
            "18           Maine     2.1       83        51   7.8\n",
            "19        Maryland    11.3      300        67  27.8\n",
            "20   Massachusetts     4.4      149        85  16.3\n",
            "21        Michigan    12.1      255        74  35.1\n",
            "22       Minnesota     2.7       72        66  14.9\n",
            "23     Mississippi    16.1      259        44  17.1\n",
            "24        Missouri     9.0      178        70  28.2\n",
            "25         Montana     6.0      109        53  16.4\n",
            "26        Nebraska     4.3      102        62  16.5\n",
            "27          Nevada    12.2      252        81  46.0\n",
            "28   New Hampshire     2.1       57        56   9.5\n",
            "29      New Jersey     7.4      159        89  18.8\n",
            "30      New Mexico    11.4      285        70  32.1\n",
            "31        New York    11.1      254        86  26.1\n",
            "32  North Carolina    13.0      337        45  16.1\n",
            "33    North Dakota     0.8       45        44   7.3\n",
            "34            Ohio     7.3      120        75  21.4\n",
            "35        Oklahoma     6.6      151        68  20.0\n",
            "36          Oregon     4.9      159        67  29.3\n",
            "37    Pennsylvania     6.3      106        72  14.9\n",
            "38    Rhode Island     3.4      174        87   8.3\n",
            "39  South Carolina    14.4      279        48  22.5\n",
            "40    South Dakota     3.8       86        45  12.8\n",
            "41       Tennessee    13.2      188        59  26.9\n",
            "42           Texas    12.7      201        80  25.5\n",
            "43            Utah     3.2      120        80  22.9\n",
            "44         Vermont     2.2       48        32  11.2\n",
            "45        Virginia     8.5      156        63  20.7\n",
            "46      Washington     4.0      145        73  26.2\n",
            "47   West Virginia     5.7       81        39   9.3\n",
            "48       Wisconsin     2.6       53        66  10.8\n",
            "49         Wyoming     6.8      161        60  15.6\n"
          ],
          "name": "stdout"
        }
      ]
    },
    {
      "cell_type": "code",
      "metadata": {
        "id": "hFfO7lqICC_4",
        "outputId": "e84ab280-2450-474a-a805-113151f2c0db",
        "colab": {
          "base_uri": "https://localhost:8080/",
          "height": 942
        }
      },
      "source": [
        "num_cols = dataset.iloc[:, 1:]\n",
        "for (col_name, col_data) in num_cols.iteritems():\n",
        "  print(col_name, \"column mean and std:\", \n",
        "        col_data.mean(), col_data.std())\n",
        "print()\n",
        "\n",
        "# Нормализация:\n",
        "# набор данных с нулевым средним значением по столбцам данных и стандартным отклонением 1.\n",
        "X_std = StandardScaler().fit_transform(numericColumns)\n",
        "\n",
        "# mean, используя библиотеки sklearn:\n",
        "print(\"Standardized\", X_std.shape,\":\")\n",
        "for i in range(X_std.shape[1]): # X_std.shape[1] -- для каждого столбца.\n",
        "  print(num_cols.columns[i], \" column mean and std:\", X_std[:,i].mean(), X_std[:,i].std())\n",
        "print()\n",
        "\n",
        "# mean, используя библиотеки numpy:\n",
        "mean_vec = np.mean(X_std, axis=0)\n",
        "print(\"mean vec:\", mean_vec)\n",
        "print()\n",
        "\n",
        "print('X_std.T.shape:', X_std.T.shape)  # check shape before finding cov mat\n",
        "cov_mat = np.cov(X_std.T)\n",
        "print('cov_mat.shape:', cov_mat.shape)\n",
        "print('cov_mat:\\n', cov_mat)\n",
        "print()\n",
        "\n",
        "# Спектральное разложение ков. матрицы (eigendecomposition):\n",
        "eig_vals, eig_vecs = np.linalg.eig(cov_mat)\n",
        "print('Eigenvectors ', eig_vecs.shape, \":\")\n",
        "print(eig_vecs.T)  # векторы -- это строки матрицы eig_vecs.T\n",
        "print('Eigenvalues ', eig_vals.shape, \":\")\n",
        "print(eig_vals)\n",
        "print()\n",
        "\n",
        "# Убедитесь, что главные компоненты, вычисленные методом fit() класса PCA библиотеки sklearn \n",
        "# совпадают с собственными векторами ковариационной матрицы, \n",
        "# а объясненная дисперсия главных компонент совпадает с собственными значениями матрицы.\n",
        "\n",
        "# Explained variance:\n",
        "pca = sklearnPCA().fit(X_std)                                       # Выполнение PCA – вычисление компонент.\n",
        "print(\"sklearn PCA components:\\n\", pca.components_)                 # The components are sorted by explained_variance_.\n",
        "print(\"sklearn PCA explained_variance_:\", pca.explained_variance_)\n",
        "print(\"sklearn PCA explained_variance_ratio_:\", pca.explained_variance_ratio_)\n",
        "print()\n",
        "\n",
        "# Проанализируйте построенный график суммарной объясненной дисперсии главных компонент. \n",
        "# Какую долю дисперсии объясняют суммарно первые две главные компоненты?\n",
        "\n",
        "# Промежуточная сумма – это сумма последовательности чисел, \n",
        "# которая обновляется каждый раз, когда новое число добавляется к последовательности, \n",
        "# увеличивая предыдущую промежуточную сумму на величину нового значения.\n",
        "#\n",
        "# Смысл промежуточной суммы двояк: \n",
        "# * во-первых, она позволяет видеть сумму последовательности для каждого шага, \n",
        "#   не совершая лишних действий со всей последовательностью;\n",
        "# * во-вторых, промежуточная сумма даёт возможность не записывать саму последовательность, \n",
        "#   если конкретные её значения не имеют важности.\n",
        "print('cumulative sum of exp. var. ratio: ', np.cumsum(pca.explained_variance_ratio_))\n",
        "print()\n",
        "\n",
        "plt.plot(np.cumsum(pca.explained_variance_ratio_))\n",
        "plt.xlabel('number of components')\n",
        "plt.ylabel('cumulative explained variance')\n",
        "plt.show()\n"
      ],
      "execution_count": 86,
      "outputs": [
        {
          "output_type": "stream",
          "text": [
            "Murder column mean and std: 7.787999999999999 4.355509764209288\n",
            "Assault column mean and std: 170.76 83.33766084001708\n",
            "UrbanPop column mean and std: 65.54 14.474763400836784\n",
            "Rape column mean and std: 21.231999999999992 9.366384531059648\n",
            "\n",
            "Standardized (50, 4) :\n",
            "Murder  column mean and std: -7.105427357601002e-17 1.0\n",
            "Assault  column mean and std: 1.3877787807814457e-16 1.0\n",
            "UrbanPop  column mean and std: -4.39648317751562e-16 1.0\n",
            "Rape  column mean and std: 8.593126210598712e-16 0.9999999999999999\n",
            "\n",
            "mean vec: [-7.10542736e-17  1.38777878e-16 -4.39648318e-16  8.59312621e-16]\n",
            "\n",
            "X_std.T.shape: (4, 50)\n",
            "cov_mat.shape: (4, 4)\n",
            "cov_mat:\n",
            " [[1.02040816 0.81823807 0.07099247 0.57508044]\n",
            " [0.81823807 1.02040816 0.2641548  0.67881758]\n",
            " [0.07099247 0.2641548  1.02040816 0.41973595]\n",
            " [0.57508044 0.67881758 0.41973595 1.02040816]]\n",
            "\n",
            "Eigenvectors  (4, 4) :\n",
            "[[ 0.53589947  0.58318363  0.27819087  0.54343209]\n",
            " [ 0.41818087  0.1879856  -0.87280619 -0.16731864]\n",
            " [ 0.6492278  -0.74340748  0.13387773  0.08902432]\n",
            " [-0.34123273 -0.26814843 -0.37801579  0.81777791]]\n",
            "Eigenvalues  (4,) :\n",
            "[2.53085875 1.00996444 0.17696948 0.36383998]\n",
            "\n",
            "sklearn PCA components:\n",
            " [[ 0.53589947  0.58318363  0.27819087  0.54343209]\n",
            " [ 0.41818087  0.1879856  -0.87280619 -0.16731864]\n",
            " [-0.34123273 -0.26814843 -0.37801579  0.81777791]\n",
            " [ 0.6492278  -0.74340748  0.13387773  0.08902432]]\n",
            "sklearn PCA explained_variance_: [2.53085875 1.00996444 0.36383998 0.17696948]\n",
            "sklearn PCA explained_variance_ratio_: [0.62006039 0.24744129 0.0891408  0.04335752]\n",
            "\n",
            "cumulative sum of exp. var. ratio:  [0.62006039 0.86750168 0.95664248 1.        ]\n",
            "\n"
          ],
          "name": "stdout"
        },
        {
          "output_type": "display_data",
          "data": {
            "image/png": "[encoded data removed]",
            "text/plain": [
              "<Figure size 432x288 with 1 Axes>"
            ]
          },
          "metadata": {
            "tags": [],
            "needs_background": "light"
          }
        }
      ]
    }
  ]
}